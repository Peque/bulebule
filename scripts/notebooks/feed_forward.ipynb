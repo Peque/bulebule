{
 "cells": [
  {
   "cell_type": "code",
   "execution_count": null,
   "metadata": {
    "scrolled": true
   },
   "outputs": [],
   "source": [
    "import json\n",
    "from pathlib import Path\n",
    "import pickle\n",
    "\n",
    "import pandas\n",
    "from matplotlib import pyplot\n",
    "from pandas import DataFrame\n",
    "import yaml\n",
    "\n",
    "\n",
    "def log_as_dataframe(log):\n",
    "    columns = ['timestamp', 'level', 'source', 'function', 'data']\n",
    "    df = pandas.DataFrame(log, columns=columns)\n",
    "    return df\n",
    "\n",
    "\n",
    "df = log_as_dataframe(pickle.load(open('../log.pkl', 'rb')))\n",
    "df = df[df['level'] == 'DATA']\n",
    "df.head()"
   ]
  },
  {
   "cell_type": "code",
   "execution_count": null,
   "metadata": {},
   "outputs": [],
   "source": [
    "data = []\n",
    "for row in df.itertuples():\n",
    "    try:\n",
    "        value = yaml.load(row.data)\n",
    "    except yaml.error.YAMLError:\n",
    "        continue\n",
    "    if len(value) != 12:\n",
    "        print(value)\n",
    "        continue\n",
    "    data.append([row.timestamp] + value)\n",
    "df = DataFrame(data)\n",
    "df.columns = ['timestamp', 'front_left', 'front_right', 'side_left', 'side_right',\n",
    "              'linear_ideal', 'linear_measured', 'angular_ideal', 'angular_measured',\n",
    "              'voltage_left', 'voltage_right', 'pwm_left', 'pwm_right']\n",
    "df['timestamp'] /= 1000\n",
    "df = df.set_index('timestamp')\n",
    "df = df.sort_index()\n",
    "df.head()"
   ]
  },
  {
   "cell_type": "markdown",
   "metadata": {},
   "source": [
    "## Linear speed feed-forward"
   ]
  },
  {
   "cell_type": "code",
   "execution_count": null,
   "metadata": {},
   "outputs": [],
   "source": [
    "df['time'] = df.index\n",
    "df['acceleration'] = df['linear_ideal'].diff() / df['time'].diff()\n",
    "df['force'] = df['acceleration'] / 2. * 0.115"
   ]
  },
  {
   "cell_type": "code",
   "execution_count": null,
   "metadata": {},
   "outputs": [],
   "source": [
    "linear = df[(df['acceleration'] == 0) & (df['angular_ideal'] == 0) & (df['linear_ideal'] != 0)]"
   ]
  },
  {
   "cell_type": "code",
   "execution_count": null,
   "metadata": {},
   "outputs": [],
   "source": [
    "from sklearn import linear_model\n",
    "\n",
    "def fit_motor_linear_speed(data, y_label):\n",
    "    X = numpy.expand_dims(data['linear_measured'].values, axis=1)\n",
    "    y = numpy.expand_dims(data[y_label].values, axis=1)\n",
    "    regr = linear_model.LinearRegression(fit_intercept=True)\n",
    "    model = regr.fit(X, y)\n",
    "    \n",
    "    line = numpy.array([[data['linear_measured'].min() * 1.2], [data['linear_measured'].max() * 1.2]])\n",
    "    pyplot.figure()\n",
    "    pyplot.style.use('seaborn')\n",
    "    pyplot.xlabel('Speed (m/s)')\n",
    "    pyplot.ylabel('Voltage (V)')\n",
    "    pyplot.scatter(x=data['linear_measured'], y=data[y_label], alpha=0.05)\n",
    "    pyplot.plot(line, model.predict(line), color='red')\n",
    "    pyplot.show()\n",
    "    \n",
    "    return model.intercept_, model.coef_\n",
    "\n",
    "left_0, left_1 = fit_motor_linear_speed(linear, 'voltage_left')\n",
    "left_0, left_1"
   ]
  },
  {
   "cell_type": "code",
   "execution_count": null,
   "metadata": {},
   "outputs": [],
   "source": [
    "right_0, right_1 = fit_motor_linear_speed(linear, 'voltage_right')\n",
    "right_0, right_1"
   ]
  },
  {
   "cell_type": "markdown",
   "metadata": {},
   "source": [
    "## Force term"
   ]
  },
  {
   "cell_type": "code",
   "execution_count": null,
   "metadata": {},
   "outputs": [],
   "source": [
    "df['voltage_force_left'] = df['voltage_left'] - left_0[0] - left_1[0][0] * df['linear_measured']\n",
    "df['voltage_force_right'] = df['voltage_right'] - right_0[0] - right_1[0][0] * df['linear_measured']"
   ]
  },
  {
   "cell_type": "code",
   "execution_count": null,
   "metadata": {},
   "outputs": [],
   "source": [
    "force = df[(df['acceleration'] != 0) & (df['angular_ideal'] == 0) & (df['linear_ideal'] != 0)]"
   ]
  },
  {
   "cell_type": "code",
   "execution_count": null,
   "metadata": {
    "scrolled": false
   },
   "outputs": [],
   "source": [
    "from sklearn.metrics import log_loss\n",
    "\n",
    "def fit_motor_force_feedforward(data, y_label):\n",
    "    data = data.dropna()\n",
    "    X = numpy.expand_dims(data['force'].values, axis=1)\n",
    "    y = numpy.expand_dims(data[y_label].values, axis=1)\n",
    "    model = linear_model.LinearRegression(fit_intercept=False).fit(X, y)\n",
    "    \n",
    "    line = numpy.array([[data['force'].min() * 1.2], [data['force'].max() * 1.2]])\n",
    "    pyplot.figure()\n",
    "    pyplot.style.use('seaborn')\n",
    "    pyplot.xlabel('Force (N)')\n",
    "    pyplot.ylabel('Voltage (V)')\n",
    "    pyplot.scatter(x=data['force'], y=data[y_label], alpha=0.05)\n",
    "    pyplot.plot(line, model.predict(line), color='red')\n",
    "    pyplot.show()\n",
    "    \n",
    "    return model.coef_[0][0]\n",
    "\n",
    "fit_motor_force_feedforward(force, 'voltage_force_left')"
   ]
  },
  {
   "cell_type": "code",
   "execution_count": null,
   "metadata": {},
   "outputs": [],
   "source": [
    "fit_motor_force_feedforward(force, 'voltage_force_right')"
   ]
  }
 ],
 "metadata": {
  "kernelspec": {
   "display_name": "Python 3",
   "language": "python",
   "name": "python3"
  },
  "language_info": {
   "codemirror_mode": {
    "name": "ipython",
    "version": 3
   },
   "file_extension": ".py",
   "mimetype": "text/x-python",
   "name": "python",
   "nbconvert_exporter": "python",
   "pygments_lexer": "ipython3",
   "version": "3.6.7"
  }
 },
 "nbformat": 4,
 "nbformat_minor": 2
}
