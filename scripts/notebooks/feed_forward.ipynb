{
 "cells": [
  {
   "cell_type": "code",
   "execution_count": 213,
   "metadata": {
    "scrolled": true
   },
   "outputs": [
    {
     "data": {
      "text/html": [
       "<div>\n",
       "<style scoped>\n",
       "    .dataframe tbody tr th:only-of-type {\n",
       "        vertical-align: middle;\n",
       "    }\n",
       "\n",
       "    .dataframe tbody tr th {\n",
       "        vertical-align: top;\n",
       "    }\n",
       "\n",
       "    .dataframe thead th {\n",
       "        text-align: right;\n",
       "    }\n",
       "</style>\n",
       "<table border=\"1\" class=\"dataframe\">\n",
       "  <thead>\n",
       "    <tr style=\"text-align: right;\">\n",
       "      <th></th>\n",
       "      <th>timestamp</th>\n",
       "      <th>level</th>\n",
       "      <th>source</th>\n",
       "      <th>function</th>\n",
       "      <th>data</th>\n",
       "    </tr>\n",
       "  </thead>\n",
       "  <tbody>\n",
       "    <tr>\n",
       "      <th>1</th>\n",
       "      <td>10074.0</td>\n",
       "      <td>DATA</td>\n",
       "      <td></td>\n",
       "      <td></td>\n",
       "      <td>[0.000,0.000,0.000,0.084,1.578,0.099,1.448,0.0...</td>\n",
       "    </tr>\n",
       "    <tr>\n",
       "      <th>2</th>\n",
       "      <td>10076.0</td>\n",
       "      <td>DATA</td>\n",
       "      <td></td>\n",
       "      <td></td>\n",
       "      <td>[0.000,0.000,0.000,0.085,1.578,0.099,1.448,0.0...</td>\n",
       "    </tr>\n",
       "    <tr>\n",
       "      <th>3</th>\n",
       "      <td>10078.0</td>\n",
       "      <td>DATA</td>\n",
       "      <td></td>\n",
       "      <td></td>\n",
       "      <td>[0.000,0.000,0.000,0.085,1.578,0.100,1.448,0.0...</td>\n",
       "    </tr>\n",
       "    <tr>\n",
       "      <th>4</th>\n",
       "      <td>10080.0</td>\n",
       "      <td>DATA</td>\n",
       "      <td></td>\n",
       "      <td></td>\n",
       "      <td>[0.000,0.000,0.000,0.086,1.578,0.101,1.448,0.0...</td>\n",
       "    </tr>\n",
       "    <tr>\n",
       "      <th>5</th>\n",
       "      <td>10082.0</td>\n",
       "      <td>DATA</td>\n",
       "      <td></td>\n",
       "      <td></td>\n",
       "      <td>[0.000,0.000,0.000,0.087,1.578,0.102,1.448,0.0...</td>\n",
       "    </tr>\n",
       "  </tbody>\n",
       "</table>\n",
       "</div>"
      ],
      "text/plain": [
       "   timestamp level source function  \\\n",
       "1    10074.0  DATA                   \n",
       "2    10076.0  DATA                   \n",
       "3    10078.0  DATA                   \n",
       "4    10080.0  DATA                   \n",
       "5    10082.0  DATA                   \n",
       "\n",
       "                                                data  \n",
       "1  [0.000,0.000,0.000,0.084,1.578,0.099,1.448,0.0...  \n",
       "2  [0.000,0.000,0.000,0.085,1.578,0.099,1.448,0.0...  \n",
       "3  [0.000,0.000,0.000,0.085,1.578,0.100,1.448,0.0...  \n",
       "4  [0.000,0.000,0.000,0.086,1.578,0.101,1.448,0.0...  \n",
       "5  [0.000,0.000,0.000,0.087,1.578,0.102,1.448,0.0...  "
      ]
     },
     "execution_count": 213,
     "metadata": {},
     "output_type": "execute_result"
    }
   ],
   "source": [
    "import json\n",
    "from pathlib import Path\n",
    "import pickle\n",
    "\n",
    "import pandas\n",
    "from matplotlib import pyplot\n",
    "from pandas import DataFrame\n",
    "import yaml\n",
    "\n",
    "\n",
    "def log_as_dataframe(log):\n",
    "    columns = ['timestamp', 'level', 'source', 'function', 'data']\n",
    "    df = pandas.DataFrame(log, columns=columns)\n",
    "    return df\n",
    "\n",
    "\n",
    "df = log_as_dataframe(pickle.load(open('../log.pkl', 'rb')))\n",
    "df = df[df['level'] == 'DATA']\n",
    "df.head()"
   ]
  },
  {
   "cell_type": "code",
   "execution_count": 214,
   "metadata": {
    "scrolled": true
   },
   "outputs": [
    {
     "name": "stderr",
     "output_type": "stream",
     "text": [
      "/container/miniconda/envs/bulebule/lib/python3.6/site-packages/ipykernel_launcher.py:4: YAMLLoadWarning: calling yaml.load() without Loader=... is deprecated, as the default Loader is unsafe. Please read https://msg.pyyaml.org/load for full details.\n",
      "  after removing the cwd from sys.path.\n"
     ]
    },
    {
     "name": "stdout",
     "output_type": "stream",
     "text": [
      "[0.0, 0.0, 0.0, 0.49, 0.465, 0.11, 0.102, 0.0, 0.513, 0.445, 0.11, 0.102, 0.0, 0.0, 0.0, -0.012, 0.0, 0.0, 0, 0]\n",
      "0.00,0.00,0,0]\n",
      "0.110,0.102,0.000,0.000,0.000,-0.004,0.00,0.00,0,0]\n",
      "[0.0, 0.0, 0.0, 0.539, 0.445, 0.11, 0.102, 0.0, 0, 0.539, 0.445, 0.11, 0.102, 0.0, 0.0, 0.0, -0.012, 0.0, 0.0, 0, 0]\n",
      "[0.0, 0.0, 0.0, 0.539, 0.445, 0.11, 0.102, 0.0, '0..667', 0.445, 0.11, 0.102, 0.0, 0.0, 0.0, -0.006, 0.0, 0.0, 0, 0]\n",
      "[0.0, 0.0, 0.0, 0.539, 0.465, 0.11, 0.102, 0.0, 0.0, 0.0, -0.009, 0.0, 0.0, 0.0, 0.0, -0.006, 0.0, 0.0, 0, 0]\n",
      "[-0.027, 0.0, 0.0, 0.131, 0.243, '0..828', 1.206, 1.13, 0.97, 128, 109]\n",
      "[-0.027, 7.442, 0.0, 0.136, 0.116, 0.384, 0.136, 0.358, 0.362, '4.7.027', 7.442, 0.0, 0.084, 0.113, 0.086, 0.248, 0.358, 0.358, 7.187, 5.451, 2.4, 0.14, 272, 16]\n",
      "[0.0, 0.482, 0.0, 0.072, 0.068, 0.151, 0.051, 0.0, 0.0, -0.005, 1.02, 1.02, 115, 115]\n",
      "[0.0, 3.179, 0.0, 0.072, 0.15, 0.051, 0.0, 0.0, 0.0, -0.003, 1.02, 1.02, 115, 115]\n"
     ]
    },
    {
     "data": {
      "text/html": [
       "<div>\n",
       "<style scoped>\n",
       "    .dataframe tbody tr th:only-of-type {\n",
       "        vertical-align: middle;\n",
       "    }\n",
       "\n",
       "    .dataframe tbody tr th {\n",
       "        vertical-align: top;\n",
       "    }\n",
       "\n",
       "    .dataframe thead th {\n",
       "        text-align: right;\n",
       "    }\n",
       "</style>\n",
       "<table border=\"1\" class=\"dataframe\">\n",
       "  <thead>\n",
       "    <tr style=\"text-align: right;\">\n",
       "      <th></th>\n",
       "      <th>side_integral</th>\n",
       "      <th>front_integral</th>\n",
       "      <th>diagonal_integral</th>\n",
       "      <th>front_left</th>\n",
       "      <th>front_right</th>\n",
       "      <th>side_left</th>\n",
       "      <th>side_right</th>\n",
       "      <th>linear_ideal</th>\n",
       "      <th>linear_measured</th>\n",
       "      <th>angular_ideal</th>\n",
       "      <th>angular_measured</th>\n",
       "      <th>voltage_left</th>\n",
       "      <th>voltage_right</th>\n",
       "      <th>pwm_left</th>\n",
       "      <th>pwm_right</th>\n",
       "    </tr>\n",
       "    <tr>\n",
       "      <th>timestamp</th>\n",
       "      <th></th>\n",
       "      <th></th>\n",
       "      <th></th>\n",
       "      <th></th>\n",
       "      <th></th>\n",
       "      <th></th>\n",
       "      <th></th>\n",
       "      <th></th>\n",
       "      <th></th>\n",
       "      <th></th>\n",
       "      <th></th>\n",
       "      <th></th>\n",
       "      <th></th>\n",
       "      <th></th>\n",
       "      <th></th>\n",
       "    </tr>\n",
       "  </thead>\n",
       "  <tbody>\n",
       "    <tr>\n",
       "      <th>10.074</th>\n",
       "      <td>0.0</td>\n",
       "      <td>0.0</td>\n",
       "      <td>0.0</td>\n",
       "      <td>0.084</td>\n",
       "      <td>1.578</td>\n",
       "      <td>0.099</td>\n",
       "      <td>1.448</td>\n",
       "      <td>0.0</td>\n",
       "      <td>-0.004</td>\n",
       "      <td>0.0</td>\n",
       "      <td>0.372</td>\n",
       "      <td>0.0</td>\n",
       "      <td>0.0</td>\n",
       "      <td>0</td>\n",
       "      <td>0</td>\n",
       "    </tr>\n",
       "    <tr>\n",
       "      <th>10.076</th>\n",
       "      <td>0.0</td>\n",
       "      <td>0.0</td>\n",
       "      <td>0.0</td>\n",
       "      <td>0.085</td>\n",
       "      <td>1.578</td>\n",
       "      <td>0.099</td>\n",
       "      <td>1.448</td>\n",
       "      <td>0.0</td>\n",
       "      <td>-0.004</td>\n",
       "      <td>0.0</td>\n",
       "      <td>0.397</td>\n",
       "      <td>0.0</td>\n",
       "      <td>0.0</td>\n",
       "      <td>0</td>\n",
       "      <td>0</td>\n",
       "    </tr>\n",
       "    <tr>\n",
       "      <th>10.078</th>\n",
       "      <td>0.0</td>\n",
       "      <td>0.0</td>\n",
       "      <td>0.0</td>\n",
       "      <td>0.085</td>\n",
       "      <td>1.578</td>\n",
       "      <td>0.100</td>\n",
       "      <td>1.448</td>\n",
       "      <td>0.0</td>\n",
       "      <td>-0.004</td>\n",
       "      <td>0.0</td>\n",
       "      <td>0.413</td>\n",
       "      <td>0.0</td>\n",
       "      <td>0.0</td>\n",
       "      <td>0</td>\n",
       "      <td>0</td>\n",
       "    </tr>\n",
       "    <tr>\n",
       "      <th>10.080</th>\n",
       "      <td>0.0</td>\n",
       "      <td>0.0</td>\n",
       "      <td>0.0</td>\n",
       "      <td>0.086</td>\n",
       "      <td>1.578</td>\n",
       "      <td>0.101</td>\n",
       "      <td>1.448</td>\n",
       "      <td>0.0</td>\n",
       "      <td>0.000</td>\n",
       "      <td>0.0</td>\n",
       "      <td>0.419</td>\n",
       "      <td>0.0</td>\n",
       "      <td>0.0</td>\n",
       "      <td>0</td>\n",
       "      <td>0</td>\n",
       "    </tr>\n",
       "    <tr>\n",
       "      <th>10.082</th>\n",
       "      <td>0.0</td>\n",
       "      <td>0.0</td>\n",
       "      <td>0.0</td>\n",
       "      <td>0.087</td>\n",
       "      <td>1.578</td>\n",
       "      <td>0.102</td>\n",
       "      <td>1.448</td>\n",
       "      <td>0.0</td>\n",
       "      <td>-0.004</td>\n",
       "      <td>0.0</td>\n",
       "      <td>0.428</td>\n",
       "      <td>0.0</td>\n",
       "      <td>0.0</td>\n",
       "      <td>0</td>\n",
       "      <td>0</td>\n",
       "    </tr>\n",
       "  </tbody>\n",
       "</table>\n",
       "</div>"
      ],
      "text/plain": [
       "           side_integral  front_integral  diagonal_integral  front_left  \\\n",
       "timestamp                                                                 \n",
       "10.074               0.0             0.0                0.0       0.084   \n",
       "10.076               0.0             0.0                0.0       0.085   \n",
       "10.078               0.0             0.0                0.0       0.085   \n",
       "10.080               0.0             0.0                0.0       0.086   \n",
       "10.082               0.0             0.0                0.0       0.087   \n",
       "\n",
       "           front_right  side_left  side_right  linear_ideal  linear_measured  \\\n",
       "timestamp                                                                      \n",
       "10.074           1.578      0.099       1.448           0.0           -0.004   \n",
       "10.076           1.578      0.099       1.448           0.0           -0.004   \n",
       "10.078           1.578      0.100       1.448           0.0           -0.004   \n",
       "10.080           1.578      0.101       1.448           0.0            0.000   \n",
       "10.082           1.578      0.102       1.448           0.0           -0.004   \n",
       "\n",
       "           angular_ideal  angular_measured  voltage_left  voltage_right  \\\n",
       "timestamp                                                                 \n",
       "10.074               0.0             0.372           0.0            0.0   \n",
       "10.076               0.0             0.397           0.0            0.0   \n",
       "10.078               0.0             0.413           0.0            0.0   \n",
       "10.080               0.0             0.419           0.0            0.0   \n",
       "10.082               0.0             0.428           0.0            0.0   \n",
       "\n",
       "           pwm_left  pwm_right  \n",
       "timestamp                       \n",
       "10.074            0          0  \n",
       "10.076            0          0  \n",
       "10.078            0          0  \n",
       "10.080            0          0  \n",
       "10.082            0          0  "
      ]
     },
     "execution_count": 214,
     "metadata": {},
     "output_type": "execute_result"
    }
   ],
   "source": [
    "data = []\n",
    "for row in df.itertuples():\n",
    "    try:\n",
    "        value = yaml.load(row.data)\n",
    "    except yaml.error.YAMLError:\n",
    "        continue\n",
    "    if len(value) != 15:\n",
    "        print(value)\n",
    "        continue\n",
    "    data.append([row.timestamp] + value)\n",
    "df = DataFrame(data)\n",
    "df.columns = ['timestamp', 'side_integral', 'front_integral', 'diagonal_integral', 'front_left', 'front_right', 'side_left', 'side_right',\n",
    "              'linear_ideal', 'linear_measured', 'angular_ideal', 'angular_measured',\n",
    "              'voltage_left', 'voltage_right', 'pwm_left', 'pwm_right']\n",
    "df['timestamp'] /= 1000\n",
    "df = df.set_index('timestamp')\n",
    "df = df.sort_index()\n",
    "df.head()"
   ]
  },
  {
   "cell_type": "markdown",
   "metadata": {},
   "source": [
    "## Linear speed feed-forward"
   ]
  },
  {
   "cell_type": "code",
   "execution_count": 215,
   "metadata": {},
   "outputs": [],
   "source": [
    "df['time'] = df.index\n",
    "df['acceleration'] = df['linear_ideal'].diff() / df['time'].diff()\n",
    "df['angular_acceleration'] = df['angular_ideal'].diff() / df['time'].diff()\n",
    "df['force'] = df['acceleration'] / 2. * 0.115"
   ]
  },
  {
   "cell_type": "code",
   "execution_count": 216,
   "metadata": {},
   "outputs": [],
   "source": [
    "linear = df[(df['acceleration'] == 0) & (df['angular_ideal'] == 0) & (df['linear_ideal'] != 0)]"
   ]
  },
  {
   "cell_type": "code",
   "execution_count": 217,
   "metadata": {},
   "outputs": [],
   "source": [
    "import numpy"
   ]
  },
  {
   "cell_type": "code",
   "execution_count": 218,
   "metadata": {},
   "outputs": [
    {
     "data": {
      "image/png": "[encoded data removed]",
      "text/plain": [
       "<Figure size 576x396 with 1 Axes>"
      ]
     },
     "metadata": {},
     "output_type": "display_data"
    },
    {
     "data": {
      "text/plain": [
       "(array([-1.41616582]), array([[6.27193514]]))"
      ]
     },
     "execution_count": 218,
     "metadata": {},
     "output_type": "execute_result"
    }
   ],
   "source": [
    "from sklearn import linear_model\n",
    "\n",
    "def fit_motor_linear_speed(data, y_label):\n",
    "    X = numpy.expand_dims(data['linear_measured'].values, axis=1)\n",
    "    y = numpy.expand_dims(data[y_label].values, axis=1)\n",
    "    regr = linear_model.LinearRegression(fit_intercept=True)\n",
    "    model = regr.fit(X, y)\n",
    "    \n",
    "    line = numpy.array([[data['linear_measured'].min() * 1.2], [data['linear_measured'].max() * 1.2]])\n",
    "    pyplot.figure()\n",
    "    pyplot.style.use('seaborn')\n",
    "    pyplot.xlabel('Speed (m/s)')\n",
    "    pyplot.ylabel('Voltage (V)')\n",
    "    pyplot.scatter(x=data['linear_measured'], y=data[y_label], alpha=0.05)\n",
    "    pyplot.plot(line, model.predict(line), color='red')\n",
    "    pyplot.show()\n",
    "    \n",
    "    return model.intercept_, model.coef_\n",
    "\n",
    "left_0, left_1 = fit_motor_linear_speed(linear, 'voltage_left')\n",
    "left_0, left_1"
   ]
  },
  {
   "cell_type": "code",
   "execution_count": 219,
   "metadata": {},
   "outputs": [
    {
     "data": {
      "image/png": "[encoded data removed]",
      "text/plain": [
       "<Figure size 576x396 with 1 Axes>"
      ]
     },
     "metadata": {},
     "output_type": "display_data"
    },
    {
     "data": {
      "text/plain": [
       "(array([-1.28394587]), array([[6.28490003]]))"
      ]
     },
     "execution_count": 219,
     "metadata": {},
     "output_type": "execute_result"
    }
   ],
   "source": [
    "right_0, right_1 = fit_motor_linear_speed(linear, 'voltage_right')\n",
    "right_0, right_1"
   ]
  },
  {
   "cell_type": "markdown",
   "metadata": {},
   "source": [
    "## Force term"
   ]
  },
  {
   "cell_type": "code",
   "execution_count": 220,
   "metadata": {},
   "outputs": [],
   "source": [
    "df['voltage_force_left'] = df['voltage_left'] - left_0[0] - left_1[0][0] * df['linear_measured']\n",
    "df['voltage_force_right'] = df['voltage_right'] - right_0[0] - right_1[0][0] * df['linear_measured']"
   ]
  },
  {
   "cell_type": "code",
   "execution_count": 221,
   "metadata": {},
   "outputs": [],
   "source": [
    "force = df[(df['acceleration'] != 0) & (df['angular_ideal'] == 0) & (df['linear_ideal'] != 0)]"
   ]
  },
  {
   "cell_type": "code",
   "execution_count": 222,
   "metadata": {
    "scrolled": false
   },
   "outputs": [
    {
     "name": "stderr",
     "output_type": "stream",
     "text": [
      "/container/miniconda/envs/bulebule/lib/python3.6/site-packages/sklearn/utils/validation.py:761: DataConversionWarning: A column-vector y was passed when a 1d array was expected. Please change the shape of y to (n_samples, ), for example using ravel().\n",
      "  y = column_or_1d(y, warn=True)\n"
     ]
    },
    {
     "data": {
      "image/png": "[encoded data removed]",
      "text/plain": [
       "<Figure size 576x396 with 1 Axes>"
      ]
     },
     "metadata": {},
     "output_type": "display_data"
    },
    {
     "data": {
      "text/plain": [
       "4.928264714198519"
      ]
     },
     "execution_count": 222,
     "metadata": {},
     "output_type": "execute_result"
    }
   ],
   "source": [
    "from sklearn.metrics import log_loss\n",
    "\n",
    "def fit_motor_force_feedforward(data, y_label):\n",
    "    data = data.dropna()\n",
    "    X = numpy.expand_dims(data['force'].values, axis=1)\n",
    "    y = numpy.expand_dims(data[y_label].values, axis=1)\n",
    "    model = linear_model.HuberRegressor(epsilon=1.2, fit_intercept=False).fit(X, y)\n",
    "    \n",
    "    line = numpy.array([[data['force'].min() * 1.2], [data['force'].max() * 1.2]])\n",
    "    pyplot.figure()\n",
    "    pyplot.style.use('seaborn')\n",
    "    pyplot.xlabel('Force (N)')\n",
    "    pyplot.ylabel('Voltage (V)')\n",
    "    pyplot.scatter(x=data['force'], y=data[y_label], alpha=0.05)\n",
    "    pyplot.plot(line, model.predict(line), color='red')\n",
    "    pyplot.show()\n",
    "    \n",
    "    return model.coef_[0]\n",
    "\n",
    "fit_motor_force_feedforward(force, 'voltage_force_left')"
   ]
  },
  {
   "cell_type": "code",
   "execution_count": 223,
   "metadata": {},
   "outputs": [
    {
     "name": "stderr",
     "output_type": "stream",
     "text": [
      "/container/miniconda/envs/bulebule/lib/python3.6/site-packages/sklearn/utils/validation.py:761: DataConversionWarning: A column-vector y was passed when a 1d array was expected. Please change the shape of y to (n_samples, ), for example using ravel().\n",
      "  y = column_or_1d(y, warn=True)\n"
     ]
    },
    {
     "data": {
      "image/png": "[encoded data removed]",
      "text/plain": [
       "<Figure size 576x396 with 1 Axes>"
      ]
     },
     "metadata": {},
     "output_type": "display_data"
    },
    {
     "data": {
      "text/plain": [
       "4.144241961929038"
      ]
     },
     "execution_count": 223,
     "metadata": {},
     "output_type": "execute_result"
    }
   ],
   "source": [
    "fit_motor_force_feedforward(force, 'voltage_force_right')"
   ]
  },
  {
   "cell_type": "code",
   "execution_count": 224,
   "metadata": {},
   "outputs": [],
   "source": [
    "df['voltage_angular_left'] = df['voltage_left'] - left_0[0] - left_1[0][0] * \\\n",
    "    (df['linear_measured'] + df['angular_measured'] * 0.073 / 2.)\n",
    "df['voltage_angular_right'] = df['voltage_right'] - right_0[0] - right_1[0][0] * \\\n",
    "    (df['linear_measured'] - df['angular_measured'] * 0.073 / 2.)"
   ]
  },
  {
   "cell_type": "code",
   "execution_count": 225,
   "metadata": {},
   "outputs": [],
   "source": [
    "angular = df[(df['acceleration'] == 0) & (df['angular_acceleration'] == 0) & (df['angular_ideal'] != 0) & (df['linear_ideal'] != 0)]"
   ]
  },
  {
   "cell_type": "code",
   "execution_count": 226,
   "metadata": {},
   "outputs": [],
   "source": [
    "def fit_motor_angular_feedforward(data, y_label):\n",
    "    X = numpy.expand_dims(data['angular_measured'].values, axis=1)\n",
    "    y = numpy.expand_dims(data[y_label].values, axis=1)\n",
    "    regr = linear_model.LinearRegression(fit_intercept=False)\n",
    "    model = regr.fit(X, y)\n",
    "    \n",
    "    line = numpy.array([[data['angular_measured'].min() * 1.2], [data['angular_measured'].max() * 1.2]])\n",
    "    pyplot.figure()\n",
    "    pyplot.style.use('seaborn')\n",
    "    pyplot.xlabel('Angular velocity (rad/s)')\n",
    "    pyplot.ylabel('Voltage (V)')\n",
    "    pyplot.scatter(x=data['angular_measured'], y=data[y_label], alpha=0.05)\n",
    "    pyplot.plot(line, model.predict(line), color='red')\n",
    "    pyplot.show()\n",
    "    \n",
    "    return model.intercept_, model.coef_"
   ]
  },
  {
   "cell_type": "code",
   "execution_count": 227,
   "metadata": {},
   "outputs": [
    {
     "data": {
      "image/png": "[encoded data removed]",
      "text/plain": [
       "<Figure size 576x396 with 1 Axes>"
      ]
     },
     "metadata": {},
     "output_type": "display_data"
    },
    {
     "data": {
      "text/plain": [
       "(nan, nan)"
      ]
     },
     "execution_count": 227,
     "metadata": {},
     "output_type": "execute_result"
    }
   ],
   "source": [
    "def reject_outliers(series, iq_range=0.5):\n",
    "    pcnt = (1 - iq_range) / 2\n",
    "    qlow, median, qhigh = series.dropna().quantile([pcnt, 0.50, 1 - pcnt])\n",
    "    iqr = qhigh - qlow\n",
    "    return series[(series - median).abs() <= iqr]\n",
    "\n",
    "\n",
    "def fit_motor_angular_feedforward(data, y_label):\n",
    "    angular = data['angular_ideal']\n",
    "    positive = reject_outliers(data[data['angular_ideal'] > 0][y_label]).mean()\n",
    "    negative = reject_outliers(data[data['angular_ideal'] < 0][y_label]).mean()\n",
    "    \n",
    "    line = numpy.array([[angular.min() * 1.2], [angular.max() * 1.2]])\n",
    "    pyplot.figure()\n",
    "    pyplot.style.use('seaborn')\n",
    "    pyplot.xlabel('Angular velocity (rad/s)')\n",
    "    pyplot.ylabel('Voltage (V)')\n",
    "    pyplot.scatter(x=angular, y=data[y_label], alpha=0.05)\n",
    "    pyplot.plot(line, numpy.ones(line.size) * positive, color='red')\n",
    "    pyplot.plot(line, numpy.ones(line.size) * negative, color='red')\n",
    "    pyplot.show()\n",
    "    \n",
    "    return negative, positive\n",
    "\n",
    "fit_motor_angular_feedforward(angular, 'voltage_angular_left')"
   ]
  },
  {
   "cell_type": "code",
   "execution_count": 228,
   "metadata": {},
   "outputs": [
    {
     "data": {
      "image/png": "[encoded data removed]",
      "text/plain": [
       "<Figure size 576x396 with 1 Axes>"
      ]
     },
     "metadata": {},
     "output_type": "display_data"
    },
    {
     "data": {
      "text/plain": [
       "(nan, nan)"
      ]
     },
     "execution_count": 228,
     "metadata": {},
     "output_type": "execute_result"
    }
   ],
   "source": [
    "fit_motor_angular_feedforward(angular, 'voltage_angular_right')"
   ]
  },
  {
   "cell_type": "code",
   "execution_count": null,
   "metadata": {},
   "outputs": [],
   "source": []
  }
 ],
 "metadata": {
  "kernelspec": {
   "display_name": "Python 3",
   "language": "python",
   "name": "python3"
  },
  "language_info": {
   "codemirror_mode": {
    "name": "ipython",
    "version": 3
   },
   "file_extension": ".py",
   "mimetype": "text/x-python",
   "name": "python",
   "nbconvert_exporter": "python",
   "pygments_lexer": "ipython3",
   "version": "3.6.7"
  }
 },
 "nbformat": 4,
 "nbformat_minor": 2
}
