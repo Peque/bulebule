{
 "cells": [
  {
   "cell_type": "code",
<<<<<<< HEAD
   "execution_count": null,
   "metadata": {},
   "outputs": [],
=======
   "execution_count": 1,
   "metadata": {
    "scrolled": false
   },
   "outputs": [
    {
     "data": {
      "text/html": [
       "<div>\n",
       "<style scoped>\n",
       "    .dataframe tbody tr th:only-of-type {\n",
       "        vertical-align: middle;\n",
       "    }\n",
       "\n",
       "    .dataframe tbody tr th {\n",
       "        vertical-align: top;\n",
       "    }\n",
       "\n",
       "    .dataframe thead th {\n",
       "        text-align: right;\n",
       "    }\n",
       "</style>\n",
       "<table border=\"1\" class=\"dataframe\">\n",
       "  <thead>\n",
       "    <tr style=\"text-align: right;\">\n",
       "      <th></th>\n",
       "      <th>level</th>\n",
       "      <th>source</th>\n",
       "      <th>function</th>\n",
       "      <th>data</th>\n",
       "    </tr>\n",
       "    <tr>\n",
       "      <th>timestamp</th>\n",
       "      <th></th>\n",
       "      <th></th>\n",
       "      <th></th>\n",
       "      <th></th>\n",
       "    </tr>\n",
       "  </thead>\n",
       "  <tbody>\n",
       "    <tr>\n",
       "      <th>26696.0</th>\n",
       "      <td>DATA</td>\n",
       "      <td></td>\n",
       "      <td></td>\n",
       "      <td>[7371,175,31,155,28,0.2926,0.2844]</td>\n",
       "    </tr>\n",
       "    <tr>\n",
       "      <th>26697.0</th>\n",
       "      <td>DATA</td>\n",
       "      <td></td>\n",
       "      <td></td>\n",
       "      <td>[7375,172,31,157,27,0.2959,0.2810]</td>\n",
       "    </tr>\n",
       "    <tr>\n",
       "      <th>26698.0</th>\n",
       "      <td>DATA</td>\n",
       "      <td></td>\n",
       "      <td></td>\n",
       "      <td>[7392,172,30,157,27,0.2959,0.2810]</td>\n",
       "    </tr>\n",
       "    <tr>\n",
       "      <th>26699.0</th>\n",
       "      <td>DATA</td>\n",
       "      <td></td>\n",
       "      <td></td>\n",
       "      <td>[7408,171,30,155,28,0.2959,0.2844]</td>\n",
       "    </tr>\n",
       "    <tr>\n",
       "      <th>26700.0</th>\n",
       "      <td>DATA</td>\n",
       "      <td></td>\n",
       "      <td></td>\n",
       "      <td>[7421,171,31,155,28,0.2959,0.2844]</td>\n",
       "    </tr>\n",
       "  </tbody>\n",
       "</table>\n",
       "</div>"
      ],
      "text/plain": [
       "          level source function                                data\n",
       "timestamp                                                          \n",
       "26696.0    DATA                  [7371,175,31,155,28,0.2926,0.2844]\n",
       "26697.0    DATA                  [7375,172,31,157,27,0.2959,0.2810]\n",
       "26698.0    DATA                  [7392,172,30,157,27,0.2959,0.2810]\n",
       "26699.0    DATA                  [7408,171,30,155,28,0.2959,0.2844]\n",
       "26700.0    DATA                  [7421,171,31,155,28,0.2959,0.2844]"
      ]
     },
     "execution_count": 1,
     "metadata": {},
     "output_type": "execute_result"
    }
   ],
>>>>>>> 8b91ebe... !fixup asdf
   "source": [
    "import json\n",
    "import logging\n",
    "import math\n",
    "import pickle\n",
    "import re\n",
    "from functools import partialmethod\n",
    "from pathlib import Path\n",
    "\n",
    "import cufflinks\n",
    "import matplotlib.pyplot as plt\n",
    "import numpy\n",
    "import pandas\n",
    "import yaml\n",
    "from pandas import DataFrame\n",
    "from scipy.optimize import curve_fit"
   ]
  },
  {
   "cell_type": "code",
   "execution_count": null,
   "metadata": {},
   "outputs": [],
   "source": [
    "cufflinks.set_config_file(theme='white', offline=True, offline_show_link=False)\n",
    "DataFrame.plot = partialmethod(DataFrame.iplot, mode=\"lines+markers\", size=4)"
   ]
  },
  {
   "cell_type": "code",
   "execution_count": null,
   "metadata": {
    "scrolled": false
   },
   "outputs": [],
   "source": [
    "# Physical dimensions of the mouse\n",
    "setup_source = Path('../../src/setup.h').read_text()\n",
    "MOUSE_MOTOR_TAIL = float(re.findall('MOUSE_MOTOR_TAIL (.*)\\n', setup_source)[0])\n",
    "MOUSE_AXIS_SEPARATION = float(re.findall('MOUSE_AXIS_SEPARATION (.*)\\n', setup_source)[0])\n",
    "MOUSE_TAIL = MOUSE_MOTOR_TAIL + MOUSE_AXIS_SEPARATION / 2.\n",
    "\n",
    "# Where to start and stop the curve plots\n",
    "CURVE_STOP = 0.27\n",
    "\n",
    "# Zones to fit the model\n",
    "LINEAR_0 = 0.08\n",
    "LINEAR_1 = 0.10\n",
    "LINEAR_2 = 0.17\n",
    "LINEAR_3 = 0.19\n",
    "\n",
    "\n",
    "def log_as_dataframe(log):\n",
    "    columns = ['timestamp', 'level', 'source', 'function', 'data']\n",
    "    df = pandas.DataFrame(log, columns=columns)\n",
    "    return df.set_index('timestamp').sort_index()\n",
    "\n",
    "\n",
    "raw_log = log_as_dataframe(pickle.load(open('../log.pkl', 'rb')))\n",
    "raw_log = raw_log[raw_log['level'] == 'DATA']\n",
    "raw_log.head()"
   ]
  },
  {
   "cell_type": "code",
   "execution_count": 2,
   "metadata": {},
   "outputs": [
    {
     "name": "stderr",
     "output_type": "stream",
     "text": [
      "/container/miniconda/envs/bulebule/lib/python3.6/site-packages/ipykernel_launcher.py:3: YAMLLoadWarning: calling yaml.load() without Loader=... is deprecated, as the default Loader is unsafe. Please read https://msg.pyyaml.org/load for full details.\n",
      "  This is separate from the ipykernel package so we can avoid doing imports until\n"
     ]
    },
    {
     "ename": "ValueError",
     "evalue": "Length mismatch: Expected axis has 10 elements, new values have 7 elements",
     "output_type": "error",
     "traceback": [
      "\u001b[0;31m---------------------------------------------------------------------------\u001b[0m",
      "\u001b[0;31mValueError\u001b[0m                                Traceback (most recent call last)",
      "\u001b[0;32m<ipython-input-2-5fc8ea76908c>\u001b[0m in \u001b[0;36m<module>\u001b[0;34m\u001b[0m\n\u001b[1;32m      5\u001b[0m \u001b[0mdf\u001b[0m \u001b[0;34m=\u001b[0m \u001b[0mDataFrame\u001b[0m\u001b[0;34m(\u001b[0m\u001b[0mdata\u001b[0m\u001b[0;34m)\u001b[0m\u001b[0;34m\u001b[0m\u001b[0;34m\u001b[0m\u001b[0m\n\u001b[1;32m      6\u001b[0m df.columns = ['micrometers', 'left_raw_on', 'left_raw_off', 'right_raw_on', 'right_raw_off',\n\u001b[0;32m----> 7\u001b[0;31m               'left_distance', 'right_distance']\n\u001b[0m\u001b[1;32m      8\u001b[0m \u001b[0;34m\u001b[0m\u001b[0m\n\u001b[1;32m      9\u001b[0m \u001b[0mdf\u001b[0m\u001b[0;34m[\u001b[0m\u001b[0;34m'left_raw'\u001b[0m\u001b[0;34m]\u001b[0m \u001b[0;34m=\u001b[0m \u001b[0mdf\u001b[0m\u001b[0;34m[\u001b[0m\u001b[0;34m'left_raw_on'\u001b[0m\u001b[0;34m]\u001b[0m \u001b[0;34m-\u001b[0m \u001b[0mdf\u001b[0m\u001b[0;34m[\u001b[0m\u001b[0;34m'left_raw_off'\u001b[0m\u001b[0;34m]\u001b[0m\u001b[0;34m\u001b[0m\u001b[0;34m\u001b[0m\u001b[0m\n",
      "\u001b[0;32m/container/miniconda/envs/bulebule/lib/python3.6/site-packages/pandas/core/generic.py\u001b[0m in \u001b[0;36m__setattr__\u001b[0;34m(self, name, value)\u001b[0m\n\u001b[1;32m   5078\u001b[0m         \u001b[0;32mtry\u001b[0m\u001b[0;34m:\u001b[0m\u001b[0;34m\u001b[0m\u001b[0;34m\u001b[0m\u001b[0m\n\u001b[1;32m   5079\u001b[0m             \u001b[0mobject\u001b[0m\u001b[0;34m.\u001b[0m\u001b[0m__getattribute__\u001b[0m\u001b[0;34m(\u001b[0m\u001b[0mself\u001b[0m\u001b[0;34m,\u001b[0m \u001b[0mname\u001b[0m\u001b[0;34m)\u001b[0m\u001b[0;34m\u001b[0m\u001b[0;34m\u001b[0m\u001b[0m\n\u001b[0;32m-> 5080\u001b[0;31m             \u001b[0;32mreturn\u001b[0m \u001b[0mobject\u001b[0m\u001b[0;34m.\u001b[0m\u001b[0m__setattr__\u001b[0m\u001b[0;34m(\u001b[0m\u001b[0mself\u001b[0m\u001b[0;34m,\u001b[0m \u001b[0mname\u001b[0m\u001b[0;34m,\u001b[0m \u001b[0mvalue\u001b[0m\u001b[0;34m)\u001b[0m\u001b[0;34m\u001b[0m\u001b[0;34m\u001b[0m\u001b[0m\n\u001b[0m\u001b[1;32m   5081\u001b[0m         \u001b[0;32mexcept\u001b[0m \u001b[0mAttributeError\u001b[0m\u001b[0;34m:\u001b[0m\u001b[0;34m\u001b[0m\u001b[0;34m\u001b[0m\u001b[0m\n\u001b[1;32m   5082\u001b[0m             \u001b[0;32mpass\u001b[0m\u001b[0;34m\u001b[0m\u001b[0;34m\u001b[0m\u001b[0m\n",
      "\u001b[0;32mpandas/_libs/properties.pyx\u001b[0m in \u001b[0;36mpandas._libs.properties.AxisProperty.__set__\u001b[0;34m()\u001b[0m\n",
      "\u001b[0;32m/container/miniconda/envs/bulebule/lib/python3.6/site-packages/pandas/core/generic.py\u001b[0m in \u001b[0;36m_set_axis\u001b[0;34m(self, axis, labels)\u001b[0m\n\u001b[1;32m    636\u001b[0m \u001b[0;34m\u001b[0m\u001b[0m\n\u001b[1;32m    637\u001b[0m     \u001b[0;32mdef\u001b[0m \u001b[0m_set_axis\u001b[0m\u001b[0;34m(\u001b[0m\u001b[0mself\u001b[0m\u001b[0;34m,\u001b[0m \u001b[0maxis\u001b[0m\u001b[0;34m,\u001b[0m \u001b[0mlabels\u001b[0m\u001b[0;34m)\u001b[0m\u001b[0;34m:\u001b[0m\u001b[0;34m\u001b[0m\u001b[0;34m\u001b[0m\u001b[0m\n\u001b[0;32m--> 638\u001b[0;31m         \u001b[0mself\u001b[0m\u001b[0;34m.\u001b[0m\u001b[0m_data\u001b[0m\u001b[0;34m.\u001b[0m\u001b[0mset_axis\u001b[0m\u001b[0;34m(\u001b[0m\u001b[0maxis\u001b[0m\u001b[0;34m,\u001b[0m \u001b[0mlabels\u001b[0m\u001b[0;34m)\u001b[0m\u001b[0;34m\u001b[0m\u001b[0;34m\u001b[0m\u001b[0m\n\u001b[0m\u001b[1;32m    639\u001b[0m         \u001b[0mself\u001b[0m\u001b[0;34m.\u001b[0m\u001b[0m_clear_item_cache\u001b[0m\u001b[0;34m(\u001b[0m\u001b[0;34m)\u001b[0m\u001b[0;34m\u001b[0m\u001b[0;34m\u001b[0m\u001b[0m\n\u001b[1;32m    640\u001b[0m \u001b[0;34m\u001b[0m\u001b[0m\n",
      "\u001b[0;32m/container/miniconda/envs/bulebule/lib/python3.6/site-packages/pandas/core/internals/managers.py\u001b[0m in \u001b[0;36mset_axis\u001b[0;34m(self, axis, new_labels)\u001b[0m\n\u001b[1;32m    153\u001b[0m             raise ValueError(\n\u001b[1;32m    154\u001b[0m                 \u001b[0;34m'Length mismatch: Expected axis has {old} elements, new '\u001b[0m\u001b[0;34m\u001b[0m\u001b[0;34m\u001b[0m\u001b[0m\n\u001b[0;32m--> 155\u001b[0;31m                 'values have {new} elements'.format(old=old_len, new=new_len))\n\u001b[0m\u001b[1;32m    156\u001b[0m \u001b[0;34m\u001b[0m\u001b[0m\n\u001b[1;32m    157\u001b[0m         \u001b[0mself\u001b[0m\u001b[0;34m.\u001b[0m\u001b[0maxes\u001b[0m\u001b[0;34m[\u001b[0m\u001b[0maxis\u001b[0m\u001b[0;34m]\u001b[0m \u001b[0;34m=\u001b[0m \u001b[0mnew_labels\u001b[0m\u001b[0;34m\u001b[0m\u001b[0;34m\u001b[0m\u001b[0m\n",
      "\u001b[0;31mValueError\u001b[0m: Length mismatch: Expected axis has 10 elements, new values have 7 elements"
     ]
    }
   ],
   "source": [
    "data = []\n",
    "errors = 0\n",
    "for value in raw_log['data'].values:\n",
    "    try:\n",
    "        value = yaml.safe_load(value)\n",
    "    except:\n",
    "        errors += 1\n",
    "        continue\n",
    "    data.append(value)\n",
    "if errors:\n",
    "    logging.warning(\"Could not parse {} lines\".format(errors))\n",
    "df = DataFrame(data)\n",
    "df.columns = ['micrometers', 'left_raw_on', 'left_raw_off', 'right_raw_on', 'right_raw_off',\n",
    "              'left_distance', 'right_distance']\n",
    "\n",
    "df['left_raw'] = df['left_raw_on'] - df['left_raw_off']\n",
    "df['right_raw'] = df['right_raw_on'] - df['right_raw_off']\n",
    "df['micrometers'] = df['micrometers'] - df['micrometers'][0]\n",
    "df['distance'] = (180 * 2 - 6 - MOUSE_TAIL * 1000) * 1000 - df['micrometers']\n",
    "df['distance'] = df['distance'] / 1000000\n",
    "df = df[df['distance'] < CURVE_STOP]\n",
    "df = df.set_index('distance')\n",
    "df = df.sort_index(ascending=False)\n",
    "df.head()"
   ]
  },
  {
   "cell_type": "code",
   "execution_count": null,
   "metadata": {},
   "outputs": [],
   "source": [
    "df['reference_distance'] = df.index.values\n",
    "df['left_distance_error'] = df['left_distance'] - df['reference_distance']\n",
    "df['right_distance_error'] = df['right_distance'] - df['reference_distance']\n",
    "df['zero_distance_error'] = 0"
   ]
  },
  {
   "cell_type": "code",
   "execution_count": null,
   "metadata": {
    "scrolled": false
   },
   "outputs": [],
   "source": [
    "df[['left_distance_error', 'right_distance_error', 'zero_distance_error']].plot()\n",
    "df[['left_raw', 'right_raw']].plot()\n",
    "df[['left_raw_on', 'right_raw_on']].plot()\n",
    "df[['left_raw_off', 'right_raw_off']].plot()"
   ]
  },
  {
   "cell_type": "code",
   "execution_count": null,
   "metadata": {
    "scrolled": false
   },
   "outputs": [],
   "source": [
    "def raw_to_distances(raw, a, b):\n",
    "    return a / numpy.log(raw) - b\n",
    "\n",
    "\n",
    "linear_df = df[((df.index > LINEAR_0) & (df.index < LINEAR_1)) |\n",
    "               ((df.index > LINEAR_2) & (df.index < LINEAR_3))]\n",
    "\n",
    "left_parameters, _ = curve_fit(raw_to_distances,\n",
    "                               linear_df['left_raw'].values,\n",
    "                               linear_df.index.values)\n",
    "right_parameters, _ = curve_fit(raw_to_distances,\n",
    "                                linear_df['right_raw'].values,\n",
    "                                linear_df.index.values)\n",
    "\n",
    "round_to = 3\n",
    "print('#define SENSOR_FRONT_LEFT_A', round(left_parameters[0], round_to))\n",
    "print('#define SENSOR_FRONT_LEFT_B', round(left_parameters[1], round_to))\n",
    "print('#define SENSOR_FRONT_RIGHT_A', round(right_parameters[0], round_to))\n",
    "print('#define SENSOR_FRONT_RIGHT_B', round(right_parameters[1], round_to))"
   ]
  },
  {
   "cell_type": "code",
   "execution_count": null,
   "metadata": {},
   "outputs": [],
   "source": [
    "df['left_distance_fit'] = raw_to_distances(df['left_raw'].values, *left_parameters)\n",
    "df['right_distance_fit'] = raw_to_distances(df['right_raw'].values, *right_parameters)\n",
    "df['left_distance_fit_error'] = df['left_distance_fit'] - df['reference_distance']\n",
    "df['right_distance_fit_error'] = df['right_distance_fit'] - df['reference_distance']\n",
    "\n",
    "df[['left_distance_fit_error', 'right_distance_fit_error', 'zero_distance_error']].plot()\n",
    "df[['left_distance_fit', 'right_distance_fit', 'reference_distance']].plot()"
   ]
  },
  {
   "cell_type": "code",
   "execution_count": null,
   "metadata": {},
   "outputs": [],
   "source": []
  }
 ],
 "metadata": {
  "kernelspec": {
   "display_name": "Python 3",
   "language": "python",
   "name": "python3"
  },
  "language_info": {
   "codemirror_mode": {
    "name": "ipython",
    "version": 3
   },
   "file_extension": ".py",
   "mimetype": "text/x-python",
   "name": "python",
   "nbconvert_exporter": "python",
   "pygments_lexer": "ipython3",
   "version": "3.6.7"
  }
 },
 "nbformat": 4,
 "nbformat_minor": 2
}
